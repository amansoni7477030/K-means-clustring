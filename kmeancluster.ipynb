{
 "cells": [
  {
   "cell_type": "code",
   "execution_count": 1,
   "metadata": {},
   "outputs": [
    {
     "name": "stdin",
     "output_type": "stream",
     "text": [
      "Enter value of k :  2\n"
     ]
    },
    {
     "name": "stdout",
     "output_type": "stream",
     "text": [
      "      0     1\n",
      "0  20.0  54.0\n",
      "1  24.0  45.0\n"
     ]
    },
    {
     "data": {
      "image/png": "[encoded data removed]",
      "text/plain": [
       "<Figure size 360x360 with 1 Axes>"
      ]
     },
     "metadata": {
      "needs_background": "light"
     },
     "output_type": "display_data"
    },
    {
     "name": "stdout",
     "output_type": "stream",
     "text": [
      "[2, 2, 2, 2, 2, 2, 2, 1, 2, 1, 2, 2, 2]\n",
      "[2, 2, 2, 2, 2, 2, 2, 1, 2, 1, 2, 2, 2]\n"
     ]
    }
   ],
   "source": [
    "import pandas as pd\n",
    "import math as mt\n",
    "import matplotlib.pyplot as plt\n",
    "import random\n",
    "\n",
    "data=pd.read_csv(\"k means data.csv\",header=None,dtype=float)\n",
    "\n",
    "    \n",
    "k = int(input(\"Enter value of k : \"))\n",
    "\n",
    "\n",
    "m=pd.DataFrame()\n",
    "\n",
    "rows = data.loc[0:k-1,:]\n",
    "m=m.append(rows)\n",
    "\n",
    "  \n",
    "print(m)\n",
    "\n",
    "mean=[]\n",
    "clusterPrev=[]\n",
    "cluster=[]\n",
    "\n",
    "while True:    \n",
    "    for i in range(len(data)):\n",
    "        for j in range(len(m)):\n",
    "            mean.append(mt.sqrt((data.loc[i,0]-m.loc[j,0])**2+(data.loc[i,1]-m.loc[j,1])**2))\n",
    "\n",
    "        ind=0\n",
    "        ind=min(mean)\n",
    "        min1=mean.index(ind)\n",
    "        cluster.append(min1+1)\n",
    "        m.loc[min1,0] = (m.loc[min1,0] + data.loc[i,0])/2\n",
    "        m.loc[min1,1] = (m.loc[min1,1] + data.loc[i,1])/2\n",
    "            \n",
    "        mean.clear()\n",
    "        \n",
    "    if cluster == clusterPrev:\n",
    "        break;\n",
    "    else:\n",
    "        clusterPrev=cluster[:]\n",
    "        \n",
    "        m=m.replace(m,0)\n",
    "            \n",
    "        for i in range(len(cluster)):\n",
    "            m.loc[cluster[i]-1,0] += data.loc[i,0]\n",
    "            m.loc[cluster[i]-1,1] += data.loc[i,1]\n",
    "        \n",
    "        for i in range(k):\n",
    "            m.loc[i,0] /= cluster.count(i+1)\n",
    "            m.loc[i,1] /= cluster.count(i+1)\n",
    "        \n",
    "        cluster.clear()\n",
    "    \n",
    "fig = plt.figure(figsize=(5,5))\n",
    "colour=[\"red\", \"green\", \"blue\", \"orange\", \"black\", \"purple\"]\n",
    "for i in range(len(cluster)):\n",
    "    plt.plot(data[0][i],data[1][i],c=colour[cluster[i]-1],marker='o')\n",
    "\n",
    "plt.ylabel('Y Axis')\n",
    "plt.xlabel('X Axis')\n",
    "  \n",
    "plt.show()\n",
    "print(cluster)\n",
    "print(clusterPrev)"
   ]
  },
  {
   "cell_type": "code",
   "execution_count": null,
   "metadata": {},
   "outputs": [],
   "source": []
  }
 ],
 "metadata": {
  "kernelspec": {
   "display_name": "Python 3",
   "language": "python",
   "name": "python3"
  },
  "language_info": {
   "codemirror_mode": {
    "name": "ipython",
    "version": 3
   },
   "file_extension": ".py",
   "mimetype": "text/x-python",
   "name": "python",
   "nbconvert_exporter": "python",
   "pygments_lexer": "ipython3",
   "version": "3.8.3"
  }
 },
 "nbformat": 4,
 "nbformat_minor": 4
}
